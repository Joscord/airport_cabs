{
 "cells": [
  {
   "cell_type": "code",
   "execution_count": 7,
   "metadata": {},
   "outputs": [],
   "source": [
    "# Importamos Numpy \n",
    "import numpy as np"
   ]
  },
  {
   "cell_type": "code",
   "execution_count": 10,
   "metadata": {},
   "outputs": [
    {
     "name": "stdout",
     "output_type": "stream",
     "text": [
      "[[2.016e+03 1.000e+00 1.000e+00 ... 1.165e+01 6.999e+01 1.000e+00]\n",
      " [2.016e+03 1.000e+00 1.000e+00 ... 8.000e+00 5.430e+01 1.000e+00]\n",
      " [2.016e+03 1.000e+00 1.000e+00 ... 0.000e+00 3.780e+01 2.000e+00]\n",
      " ...\n",
      " [2.016e+03 6.000e+00 3.000e+01 ... 5.000e+00 6.334e+01 1.000e+00]\n",
      " [2.016e+03 6.000e+00 3.000e+01 ... 8.950e+00 4.475e+01 1.000e+00]\n",
      " [2.016e+03 6.000e+00 3.000e+01 ... 0.000e+00 5.484e+01 2.000e+00]]\n"
     ]
    }
   ],
   "source": [
    "# Importamos el archivo que contiene la data. Definimos el delimitador como \",\" debido a que es un csv. Usamos el parámetro skiprows para saltarnos la primera línea que contiene los encabezados\n",
    "cab_arr = np.loadtxt(\"nyc_taxis.csv\", delimiter=\",\", skiprows=1)"
   ]
  },
  {
   "cell_type": "code",
   "execution_count": 14,
   "metadata": {},
   "outputs": [
    {
     "name": "stdout",
     "output_type": "stream",
     "text": [
      "32.24258580925573\n"
     ]
    }
   ],
   "source": [
    "# Primer ejercicio: calcular la velocidad promedio de los taxis. Como no existe la velocidad debemos calcularla a partir de las columnas de tiempo y distancia- Primero seleccionamos todas las filas. Luego dividimos eso por el tiempo. En nuestro arreglo original el tiempo viene en segundos por lo que debemos convertirlo en horas\n",
    "speed = cab_arr[:, 7] / ((cab_arr[:, 8])/3600) \n",
    "\n",
    "# Luego para encontrar la velocidad media\n",
    "mean_speed = speed.mean()"
   ]
  },
  {
   "cell_type": "code",
   "execution_count": 21,
   "metadata": {},
   "outputs": [
    {
     "name": "stdout",
     "output_type": "stream",
     "text": [
      "13333\n"
     ]
    }
   ],
   "source": [
    "# Segundo ejercicio: calcular la cantidad de viajes realizados en febrero\n",
    "\n",
    "# Aquí seleccionamos sólo las filas de los viajes que se hicieron en febrero, además sólo seleccionamos una columna (la segunda)\n",
    "trips_on_february = cab_arr[cab_arr[:, 1] == 2, 1]\n",
    "\n",
    "# Luego con shape obtenemos la nueva forma del arreglo (obteniéndose una tupla de filas y columnas). Por lo tanto obtenemos el número de filas y esta es la cantidad de viajes en febrero\n",
    "print(trips_on_february.shape[0])"
   ]
  },
  {
   "cell_type": "code",
   "execution_count": 23,
   "metadata": {},
   "outputs": [
    {
     "name": "stdout",
     "output_type": "stream",
     "text": [
      "16\n"
     ]
    }
   ],
   "source": [
    "# Tercer ejercicio: calcular el número de viajes donde la propina fue mayor a 50. Es similar al ejercicio anterior, nótese que tal como en el caso anterior no es necesario obtener sólo una columna\n",
    "tips_above_50 = cab_arr[cab_arr[:, 12] > 50]\n",
    "\n",
    "print(tips_above_50.shape[0])"
   ]
  }
 ],
 "metadata": {
  "kernelspec": {
   "display_name": "Python 3.8.10 64-bit",
   "language": "python",
   "name": "python3"
  },
  "language_info": {
   "codemirror_mode": {
    "name": "ipython",
    "version": 3
   },
   "file_extension": ".py",
   "mimetype": "text/x-python",
   "name": "python",
   "nbconvert_exporter": "python",
   "pygments_lexer": "ipython3",
   "version": "3.8.10"
  },
  "orig_nbformat": 4,
  "vscode": {
   "interpreter": {
    "hash": "916dbcbb3f70747c44a77c7bcd40155683ae19c65e1c03b4aa3499c5328201f1"
   }
  }
 },
 "nbformat": 4,
 "nbformat_minor": 2
}
